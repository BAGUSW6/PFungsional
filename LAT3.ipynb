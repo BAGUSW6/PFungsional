{
  "nbformat": 4,
  "nbformat_minor": 0,
  "metadata": {
    "colab": {
      "provenance": [],
      "authorship_tag": "ABX9TyMjfr2Pr7yzalumQB3s88C4",
      "include_colab_link": true
    },
    "kernelspec": {
      "name": "python3",
      "display_name": "Python 3"
    },
    "language_info": {
      "name": "python"
    }
  },
  "cells": [
    {
      "cell_type": "markdown",
      "metadata": {
        "id": "view-in-github",
        "colab_type": "text"
      },
      "source": [
        "<a href=\"https://colab.research.google.com/github/BAGUSW6/PFungsional/blob/main/LAT3.ipynb\" target=\"_parent\"><img src=\"https://colab.research.google.com/assets/colab-badge.svg\" alt=\"Open In Colab\"/></a>"
      ]
    },
    {
      "cell_type": "code",
      "execution_count": null,
      "metadata": {
        "colab": {
          "base_uri": "https://localhost:8080/"
        },
        "id": "c0_scEtkXl3-",
        "outputId": "0fdabc7a-8dfb-475f-b8d3-8ffd54312e35"
      },
      "outputs": [
        {
          "output_type": "stream",
          "name": "stdout",
          "text": [
            "[35001, 58091, 72333]\n"
          ]
        }
      ],
      "source": [
        "# Fungsi currying untuk mengkonversi minggu, hari, jam, dan menit menjadi menit\n",
        "def convert_to_minutes(weeks):\n",
        "    def next_step(days):\n",
        "        def then(hours):\n",
        "            def and_minutes(minutes):\n",
        "                return (weeks * 7 * 24 * 60) + (days * 24 * 60) + (hours * 60) + minutes\n",
        "            return and_minutes\n",
        "        return then\n",
        "    return next_step\n",
        "\n",
        "data = [\"3 minggu 3 hari 7 jam 21 menit\", \"5 minggu 5 hari 8 jam 11 menit\", \"7 minggu 1 hari 5 jam 33 menit\"]\n",
        "\n",
        "# Membuat fungsi currying\n",
        "convert = convert_to_minutes\n",
        "\n",
        "OutputData = []\n",
        "for entry in data:\n",
        "    parts = entry.split()\n",
        "    weeks = int(parts[0])\n",
        "    days = int(parts[2])\n",
        "    hours = int(parts[4])\n",
        "    minutes = int(parts[6])\n",
        "\n",
        "    result = convert(weeks)(days)(hours)(minutes)\n",
        "    OutputData.append(result)\n",
        "\n",
        "print(OutputData)\n"
      ]
    },
    {
      "cell_type": "code",
      "source": [
        "data = [\"3 minggu 3 hari 7 jam 21 menit\", \"5 minggu 5 hari 8 jam 11 menit\", \"7 minggu 1 hari 5 jam 33 menit\"]\n",
        "formatted_values = []\n",
        "\n",
        "for item in data:\n",
        "    parts = item.split()\n",
        "    filtered_values = [f\"'{value}'\" for value in parts if value.isdigit()]\n",
        "    formatted_values.append(f\"[{', '.join(filtered_values)}]\")\n",
        "\n",
        "for values in formatted_values:\n",
        "    print(values)\n"
      ],
      "metadata": {
        "id": "Chaj0PaDYvEU",
        "outputId": "c8ded295-45fa-4a97-d0e1-52c34067aee4",
        "colab": {
          "base_uri": "https://localhost:8080/"
        }
      },
      "execution_count": null,
      "outputs": [
        {
          "output_type": "stream",
          "name": "stdout",
          "text": [
            "['3', '3', '7', '21']\n",
            "['5', '5', '8', '11']\n",
            "['7', '1', '5', '33']\n"
          ]
        }
      ]
    },
    {
      "cell_type": "code",
      "source": [
        "# Data list\n",
        "data = [5.5, 3.1, 7, 2.7, 'Hello', 'world', 1, 'AI', 105]\n",
        "\n",
        "# Filter untuk memisahkan nilai float, int, dan string\n",
        "float_values = list(filter(lambda x: isinstance(x, float), data))\n",
        "int_values = list(filter(lambda x: isinstance(x, int), data))\n",
        "string_values = list(filter(lambda x: isinstance(x, str), data))\n",
        "\n",
        "# Map untuk memetakan nilai int menjadi satuan, puluhan, dan ratusan\n",
        "def map_int(value):\n",
        "    return {\n",
        "        'satuan': value % 10,\n",
        "        'puluhan': (value // 10) % 10,\n",
        "        'ratusan': (value // 100) % 10\n",
        "    }\n",
        "\n",
        "int_mapped = list(map(map_int, int_values))\n",
        "\n",
        "# Output\n",
        "print(\"Data Float:\")\n",
        "for value in float_values:\n",
        "    print(value)\n",
        "\n",
        "print(\"\\nData Int:\")\n",
        "for value in int_mapped:\n",
        "    print(value)\n",
        "\n",
        "print(\"\\nData String :\")\n",
        "print(string_values)\n"
      ],
      "metadata": {
        "id": "jClFwSQWYwks",
        "outputId": "ad3dbdd0-3f92-45fe-f68a-1998d6e7a604",
        "colab": {
          "base_uri": "https://localhost:8080/"
        }
      },
      "execution_count": null,
      "outputs": [
        {
          "output_type": "stream",
          "name": "stdout",
          "text": [
            "Data Float:\n",
            "5.5\n",
            "3.1\n",
            "2.7\n",
            "\n",
            "Data Int:\n",
            "{'satuan': 7, 'puluhan': 0, 'ratusan': 0}\n",
            "{'satuan': 1, 'puluhan': 0, 'ratusan': 0}\n",
            "{'satuan': 5, 'puluhan': 0, 'ratusan': 1}\n",
            "\n",
            "Data String :\n",
            "['Hello', 'world', 'AI']\n"
          ]
        }
      ]
    }
  ]
}